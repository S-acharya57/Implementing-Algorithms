{
 "cells": [
  {
   "cell_type": "markdown",
   "metadata": {},
   "source": [
    "## Objective\n",
    "\n",
    "- Start with 2 independent vectors a and b\n",
    "- find orthonormal vectors q1 and q2 that span the same plane\n",
    "- find orthogonal vectors first A, B"
   ]
  },
  {
   "cell_type": "markdown",
   "metadata": {},
   "source": [
    "**Orthogonal Vectors**: if their dot product is 0\n",
    "\n",
    "**Orthonormal Vectors**: if their dot product is 0 and their lengths are 1"
   ]
  },
  {
   "cell_type": "code",
   "execution_count": 1,
   "metadata": {},
   "outputs": [],
   "source": [
    "import numpy as np"
   ]
  },
  {
   "cell_type": "code",
   "execution_count": 9,
   "metadata": {},
   "outputs": [
    {
     "name": "stdout",
     "output_type": "stream",
     "text": [
      "[[1 2 4]\n",
      " [4 6 9]] (2, 3)\n",
      "[[5 7 8]\n",
      " [1 8 7]] (2, 3)\n"
     ]
    }
   ],
   "source": [
    "# a\n",
    "a = np.array([[1, 2, 4],\n",
    "              [4, 6, 9]])\n",
    "print(a, a.shape)\n",
    "\n",
    "# b\n",
    "b = np.random.randint(low=0,high=10, size=(2,3))\n",
    "print(b, b.shape)"
   ]
  },
  {
   "cell_type": "markdown",
   "metadata": {},
   "source": [
    "$$\n",
    "A=a \\\\ \\\\\n",
    "B = b- \\frac{A^Tb}{A^TA}A\n",
    "$$"
   ]
  },
  {
   "cell_type": "code",
   "execution_count": 35,
   "metadata": {},
   "outputs": [
    {
     "name": "stdout",
     "output_type": "stream",
     "text": [
      "(3,) (3,)\n"
     ]
    }
   ],
   "source": [
    "a = np.array([1,1,1])\n",
    "b = np.array([1,0,2])\n",
    "print(a.shape, b.shape)"
   ]
  },
  {
   "cell_type": "markdown",
   "metadata": {},
   "source": [
    "Finding orthogonal vectors"
   ]
  },
  {
   "cell_type": "code",
   "execution_count": 36,
   "metadata": {},
   "outputs": [],
   "source": [
    "def getB(A, b):\n",
    "    \n",
    "    num = np.dot(A.T, b)\n",
    "    den = np.dot(A.T, A)\n",
    "    frac = num/den \n",
    "    B = b - np.dot(frac, A)\n",
    "    return B"
   ]
  },
  {
   "cell_type": "code",
   "execution_count": 38,
   "metadata": {},
   "outputs": [
    {
     "name": "stdout",
     "output_type": "stream",
     "text": [
      "A:\n",
      "[1 1 1],\n",
      "B:\n",
      "[ 0. -1.  1.]\n"
     ]
    }
   ],
   "source": [
    "A = a \n",
    "B = getB(A, b)\n",
    "print(f'A:\\n{A},\\nB:\\n{B}')"
   ]
  },
  {
   "cell_type": "code",
   "execution_count": 53,
   "metadata": {},
   "outputs": [
    {
     "name": "stdout",
     "output_type": "stream",
     "text": [
      "Since dot product is 0.0, they are orthogonal!\n",
      "Length of A is 1.7320508075688772\n",
      "Length of B is 1.4142135623730951\n"
     ]
    }
   ],
   "source": [
    "dot_product = np.dot(A, B)\n",
    "print(f'Since dot product is {dot_product}, they are orthogonal!')\n",
    "\n",
    "# length of vector\n",
    "len_A = np.linalg.norm(A, ord=2)\n",
    "len_B = np.linalg.norm(B, ord=2)\n",
    "print(f'Length of A is {len_A}\\nLength of B is {len_B}')"
   ]
  },
  {
   "cell_type": "markdown",
   "metadata": {},
   "source": [
    "#### Since the dot product is 0, they are orthogonal. But, since the lengths of A and B vectors are not 1, they are not orthonormal!"
   ]
  },
  {
   "cell_type": "code",
   "execution_count": 65,
   "metadata": {},
   "outputs": [
    {
     "data": {
      "text/plain": [
       "(array([0.57735027, 0.57735027, 0.57735027]), 1.0)"
      ]
     },
     "execution_count": 65,
     "metadata": {},
     "output_type": "execute_result"
    }
   ],
   "source": [
    "A/np.linalg.norm(A, ord=2), np.linalg.norm(A/np.linalg.norm(A, ord=2), ord=2)"
   ]
  },
  {
   "cell_type": "markdown",
   "metadata": {},
   "source": [
    "$$\n",
    "Q1 = \\frac{A}{||A||} \\\\\n",
    "Q2 = \\frac{B}{||B||}\n",
    "$$"
   ]
  },
  {
   "cell_type": "code",
   "execution_count": 66,
   "metadata": {},
   "outputs": [],
   "source": [
    "# getting orthonormal vectors \n",
    "def getQ(A, B):\n",
    "    return A/np.linalg.norm(A, ord=2), B/np.linalg.norm(B, ord=2)"
   ]
  },
  {
   "cell_type": "code",
   "execution_count": 68,
   "metadata": {},
   "outputs": [
    {
     "name": "stdout",
     "output_type": "stream",
     "text": [
      "Q1:\n",
      "[0.57735027 0.57735027 0.57735027],\n",
      "Q2:\n",
      "[ 0.         -0.70710678  0.70710678]\n"
     ]
    }
   ],
   "source": [
    "Q1, Q2 = getQ(A, B)\n",
    "\n",
    "print(f'Q1:\\n{Q1},\\nQ2:\\n{Q2}')"
   ]
  },
  {
   "cell_type": "code",
   "execution_count": 69,
   "metadata": {},
   "outputs": [
    {
     "name": "stdout",
     "output_type": "stream",
     "text": [
      "Since dot product is 0.0, they are orthogonal!\n",
      "Length of Q1 is 1.0\n",
      "Length of Q2 is 1.0\n"
     ]
    }
   ],
   "source": [
    "dot_product = np.round(np.dot(Q1, Q2), decimals=3)\n",
    "print(f'Since dot product is {dot_product}, they are orthogonal!')\n",
    "\n",
    "# length of vector\n",
    "len_Q1 = np.round(np.linalg.norm(Q1, ord=2), decimals=3)\n",
    "len_Q2 = np.round(np.linalg.norm(Q2, ord=2), decimals=3)\n",
    "print(f'Length of Q1 is {len_Q1}\\nLength of Q2 is {len_Q2}')"
   ]
  },
  {
   "cell_type": "markdown",
   "metadata": {},
   "source": [
    "### Hence, the outputs Q1 and Q2 are the orthonormal vectors achieved from Gram-Schmidt Algorithm."
   ]
  },
  {
   "cell_type": "code",
   "execution_count": 70,
   "metadata": {},
   "outputs": [
    {
     "name": "stdout",
     "output_type": "stream",
     "text": [
      "Length of Q1 is 1.0\n",
      "Length of Q2 is 0.9999999999999999\n"
     ]
    }
   ],
   "source": [
    "len_Q1 = np.linalg.norm(Q1, ord=2)\n",
    "len_Q2 = np.linalg.norm(Q2, ord=2)\n",
    "print(f'Length of Q1 is {len_Q1}\\nLength of Q2 is {len_Q2}')"
   ]
  },
  {
   "cell_type": "markdown",
   "metadata": {},
   "source": [
    "### References:\n",
    "\n",
    "- [Orthogonal Matrices: MIT Linear Algebra 2017 ](https://ocw.mit.edu/courses/18-06sc-linear-algebra-fall-2011/7ac32be444c25e48590f47573833ccc6_MIT18_06SCF11_Ses2.4sum.pdf)\n",
    "- [Orthogonal and Orthonormal Vectors: James McCaffrey Wordpress](https://jamesmccaffrey.wordpress.com/2019/12/14/the-difference-between-orthogonal-and-orthonormal-vectors/)"
   ]
  }
 ],
 "metadata": {
  "kernelspec": {
   "display_name": "Python 3",
   "language": "python",
   "name": "python3"
  },
  "language_info": {
   "codemirror_mode": {
    "name": "ipython",
    "version": 3
   },
   "file_extension": ".py",
   "mimetype": "text/x-python",
   "name": "python",
   "nbconvert_exporter": "python",
   "pygments_lexer": "ipython3",
   "version": "3.11.4"
  }
 },
 "nbformat": 4,
 "nbformat_minor": 2
}
